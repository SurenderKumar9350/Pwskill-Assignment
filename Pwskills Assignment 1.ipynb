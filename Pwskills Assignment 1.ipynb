{
 "cells": [
  {
   "cell_type": "code",
   "execution_count": null,
   "id": "dfa554ac",
   "metadata": {},
   "outputs": [],
   "source": [
    "#                  <------QUESTION 1\n",
    "\n",
    "      # FOOR LOOP\n",
    "\n",
    "#Foor Loop are used for sequential traversal.\n",
    "# Example \n",
    "#for i in range(1,20):\n",
    "#     print(i,end=\" \")\n",
    "    \n",
    "    \n",
    "    # While Loop    \n",
    "    \n",
    "# While Loop is used to execute a block of  statement repeatedly until a given condition is satisfied.\n",
    "#Example\n",
    "#a=1\n",
    "#while a<=20:\n",
    "#     print(a,end=\" \")\n",
    " #      a=a+1\n",
    "    \n",
    "    \n",
    "    \n",
    "#              <-------- QUESTION 2\n",
    "\n",
    "# Sum first 10 numbers?\n",
    "#num=int(input(\"enter your nimber\"))\n",
    "#sum=0\n",
    "#while num>0:\n",
    "#    sum=sum+num\n",
    "#    num=num-1\n",
    "#print(sum)    \n",
    "\n",
    "#     <-------FOOR LOOP\n",
    "\n",
    "#sum=0\n",
    "#for a in range(1,11):\n",
    "#    sum=sum+a\n",
    "#sum\n",
    "\n",
    "# PRODUCT OF 10 NUMBER ?\n",
    "#num=int(input(\"enter your number\"))\n",
    "#for count in range(1,11):\n",
    "#    print(num * count)\n",
    "    \n",
    "\n",
    "    \n",
    "#                    <---------QUESTION 3\n",
    "\n",
    "#units=int(input(\"enter your bijli units\"))\n",
    "#if units == 100:\n",
    "#    print(\"bijli bill :=\",units *4.5)\n",
    "#elif units ==200:\n",
    "#    print(\"bijli bill :=\",units *6)\n",
    "#elif units ==300:\n",
    "#    print(\"bijli bill :=\",units *10)\n",
    "#else:\n",
    "#    print(\"if you will not paid the bijli bill then your electcity is cut\")\n",
    "\n",
    "\n",
    "\n",
    "#                <-------------QUESTION 5\n",
    "#str=\"I want to become a data scientist\"\n",
    "#print(str.count([::]))\n",
    "\n",
    "\n",
    "    \n",
    "        \n",
    "    \n"
   ]
  },
  {
   "cell_type": "code",
   "execution_count": null,
   "id": "5088bba8",
   "metadata": {},
   "outputs": [],
   "source": [
    "\n",
    "\n",
    "\n",
    "\n"
   ]
  },
  {
   "cell_type": "code",
   "execution_count": null,
   "id": "fef6e7c7",
   "metadata": {},
   "outputs": [],
   "source": [
    "\n",
    "    \n",
    "    "
   ]
  },
  {
   "cell_type": "code",
   "execution_count": null,
   "id": "bdf766ca",
   "metadata": {},
   "outputs": [],
   "source": []
  },
  {
   "cell_type": "code",
   "execution_count": null,
   "id": "caa1af24",
   "metadata": {},
   "outputs": [],
   "source": []
  },
  {
   "cell_type": "code",
   "execution_count": null,
   "id": "12e855f6",
   "metadata": {},
   "outputs": [],
   "source": []
  },
  {
   "cell_type": "code",
   "execution_count": null,
   "id": "3268118b",
   "metadata": {},
   "outputs": [],
   "source": []
  },
  {
   "cell_type": "code",
   "execution_count": null,
   "id": "56469a52",
   "metadata": {},
   "outputs": [],
   "source": []
  }
 ],
 "metadata": {
  "kernelspec": {
   "display_name": "Python 3 (ipykernel)",
   "language": "python",
   "name": "python3"
  },
  "language_info": {
   "codemirror_mode": {
    "name": "ipython",
    "version": 3
   },
   "file_extension": ".py",
   "mimetype": "text/x-python",
   "name": "python",
   "nbconvert_exporter": "python",
   "pygments_lexer": "ipython3",
   "version": "3.9.13"
  }
 },
 "nbformat": 4,
 "nbformat_minor": 5
}
